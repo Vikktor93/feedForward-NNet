{
 "cells": [
  {
   "cell_type": "markdown",
   "metadata": {},
   "source": [
    "<div>\n",
    "<img src=\"https://i.ibb.co/v3CvVz9/udd-short.png\" width=\"150\"/>\n",
    "    <br>\n",
    "    <strong>Universidad del Desarrollo</strong><br>\n",
    "    <em>Magíster en Data Science</em><br>\n",
    "    <em>Profesor: Tomás Fontecilla </em><br>\n",
    "\n",
    "</div>\n",
    "\n",
    "### **TAREA: Feed Forward Neural Network**\n",
    "\n",
    "*16 de Noviembre de 2024*\n",
    "\n",
    "**Nombre Estudiante(s)**: Cristian Tobar - Victor Saldivia - Joaquin Leiva - Constanza Perez"
   ]
  },
  {
   "cell_type": "markdown",
   "metadata": {},
   "source": [
    "### **1. Introducción**"
   ]
  },
  {
   "cell_type": "markdown",
   "metadata": {},
   "source": [
    "En esta tarea, aplicaremos una red neuronal feedforward al conjunto de datos *\"Heart Failure Clinical Records\"* para predecir eventos de muerte en pacientes. Este enfoque nos permitirá capturar relaciones complejas entre las variables clínicas y mejorar la precisión predictiva en comparación con modelos más simples."
   ]
  },
  {
   "cell_type": "markdown",
   "metadata": {},
   "source": [
    "### **2. Objetivo**"
   ]
  },
  {
   "cell_type": "markdown",
   "metadata": {},
   "source": [
    "- Construir un modelo basado en redes neuronales feedforward para la predicción de eventos adversos en pacientes con insuficiencia cardíaca.\n",
    "- Optimizar y evaluar el modelo mediante métricas de rendimiento relevantes, como la precisión y la matriz de confusión."
   ]
  },
  {
   "cell_type": "markdown",
   "metadata": {},
   "source": [
    "### **3. Metodología**"
   ]
  },
  {
   "cell_type": "markdown",
   "metadata": {},
   "source": [
    "El proyecto está dividido en cuatro etapas principales:\n",
    "\n",
    "1. Preparación del Conjunto de Datos\n",
    "   - Descarga y limpieza del conjunto de datos.\n",
    "   - Escalado de características y división en conjuntos de entrenamiento y prueba.\n",
    "\n",
    "2. Diseño de la Arquitectura de la Red Neuronal\n",
    "   - Selección del número de capas, neuronas y funciones de activación.\n",
    "   - Compilación del modelo con un optimizador y función de pérdida adecuados.\n",
    "\n",
    "3. Entrenamiento de la Red Neuronal\n",
    "   - Configuración de parámetros de entrenamiento, como el número de ciclos de entrenamiento y el tamaño del lote.\n",
    "   - Monitoreo de métricas durante el entrenamiento (pérdida y precisión).\n",
    "\n",
    "4. Evaluación del Modelo\n",
    "   - Validación en el conjunto de prueba.\n",
    "   - Visualización del rendimiento (precisión, pérdida) y análisis de la matriz de confusión"
   ]
  },
  {
   "cell_type": "markdown",
   "metadata": {},
   "source": [
    "#### **Preparación del Conjunto de Datos**"
   ]
  },
  {
   "cell_type": "markdown",
   "metadata": {},
   "source": [
    "Para garantizar un rendimiento óptimo del modelo, es esencial preprocesar y normalizar los datos. Esto incluye la separación de las características y la variable objetivo, la normalización de las características y la división de los datos en conjuntos de entrenamiento y prueba."
   ]
  },
  {
   "cell_type": "code",
   "execution_count": 2,
   "metadata": {},
   "outputs": [],
   "source": [
    "import pandas as pd\n",
    "import numpy as np\n",
    "import matplotlib.pyplot as plt\n",
    "import tensorflow as tf\n",
    "from sklearn.model_selection import train_test_split\n",
    "from sklearn.preprocessing import StandardScaler\n",
    "from ucimlrepo import fetch_ucirepo\n",
    "from keras import models, layers, optimizers, regularizers\n",
    "from sklearn.metrics import confusion_matrix, classification_report\n",
    "import seaborn as sns\n",
    "\n"
   ]
  },
  {
   "cell_type": "code",
   "execution_count": 3,
   "metadata": {},
   "outputs": [],
   "source": [
    "# Fetch Dataset\n",
    "heart_failure_clinical_records = fetch_ucirepo(id=519)\n",
    "\n",
    "# Separación de características y objetivo\n",
    "X_features = heart_failure_clinical_records.data.features\n",
    "y_targets = heart_failure_clinical_records.data.targets"
   ]
  },
  {
   "cell_type": "code",
   "execution_count": 4,
   "metadata": {},
   "outputs": [
    {
     "data": {
      "text/html": [
       "<div>\n",
       "<style scoped>\n",
       "    .dataframe tbody tr th:only-of-type {\n",
       "        vertical-align: middle;\n",
       "    }\n",
       "\n",
       "    .dataframe tbody tr th {\n",
       "        vertical-align: top;\n",
       "    }\n",
       "\n",
       "    .dataframe thead th {\n",
       "        text-align: right;\n",
       "    }\n",
       "</style>\n",
       "<table border=\"1\" class=\"dataframe\">\n",
       "  <thead>\n",
       "    <tr style=\"text-align: right;\">\n",
       "      <th></th>\n",
       "      <th>age</th>\n",
       "      <th>anaemia</th>\n",
       "      <th>creatinine_phosphokinase</th>\n",
       "      <th>diabetes</th>\n",
       "      <th>ejection_fraction</th>\n",
       "      <th>high_blood_pressure</th>\n",
       "      <th>platelets</th>\n",
       "      <th>serum_creatinine</th>\n",
       "      <th>serum_sodium</th>\n",
       "      <th>sex</th>\n",
       "      <th>smoking</th>\n",
       "      <th>time</th>\n",
       "      <th>death_event</th>\n",
       "    </tr>\n",
       "  </thead>\n",
       "  <tbody>\n",
       "    <tr>\n",
       "      <th>0</th>\n",
       "      <td>75.0</td>\n",
       "      <td>0</td>\n",
       "      <td>582</td>\n",
       "      <td>0</td>\n",
       "      <td>20</td>\n",
       "      <td>1</td>\n",
       "      <td>265000.00</td>\n",
       "      <td>1.9</td>\n",
       "      <td>130</td>\n",
       "      <td>1</td>\n",
       "      <td>0</td>\n",
       "      <td>4</td>\n",
       "      <td>1</td>\n",
       "    </tr>\n",
       "    <tr>\n",
       "      <th>1</th>\n",
       "      <td>55.0</td>\n",
       "      <td>0</td>\n",
       "      <td>7861</td>\n",
       "      <td>0</td>\n",
       "      <td>38</td>\n",
       "      <td>0</td>\n",
       "      <td>263358.03</td>\n",
       "      <td>1.1</td>\n",
       "      <td>136</td>\n",
       "      <td>1</td>\n",
       "      <td>0</td>\n",
       "      <td>6</td>\n",
       "      <td>1</td>\n",
       "    </tr>\n",
       "    <tr>\n",
       "      <th>2</th>\n",
       "      <td>65.0</td>\n",
       "      <td>0</td>\n",
       "      <td>146</td>\n",
       "      <td>0</td>\n",
       "      <td>20</td>\n",
       "      <td>0</td>\n",
       "      <td>162000.00</td>\n",
       "      <td>1.3</td>\n",
       "      <td>129</td>\n",
       "      <td>1</td>\n",
       "      <td>1</td>\n",
       "      <td>7</td>\n",
       "      <td>1</td>\n",
       "    </tr>\n",
       "    <tr>\n",
       "      <th>3</th>\n",
       "      <td>50.0</td>\n",
       "      <td>1</td>\n",
       "      <td>111</td>\n",
       "      <td>0</td>\n",
       "      <td>20</td>\n",
       "      <td>0</td>\n",
       "      <td>210000.00</td>\n",
       "      <td>1.9</td>\n",
       "      <td>137</td>\n",
       "      <td>1</td>\n",
       "      <td>0</td>\n",
       "      <td>7</td>\n",
       "      <td>1</td>\n",
       "    </tr>\n",
       "    <tr>\n",
       "      <th>4</th>\n",
       "      <td>65.0</td>\n",
       "      <td>1</td>\n",
       "      <td>160</td>\n",
       "      <td>1</td>\n",
       "      <td>20</td>\n",
       "      <td>0</td>\n",
       "      <td>327000.00</td>\n",
       "      <td>2.7</td>\n",
       "      <td>116</td>\n",
       "      <td>0</td>\n",
       "      <td>0</td>\n",
       "      <td>8</td>\n",
       "      <td>1</td>\n",
       "    </tr>\n",
       "    <tr>\n",
       "      <th>5</th>\n",
       "      <td>90.0</td>\n",
       "      <td>1</td>\n",
       "      <td>47</td>\n",
       "      <td>0</td>\n",
       "      <td>40</td>\n",
       "      <td>1</td>\n",
       "      <td>204000.00</td>\n",
       "      <td>2.1</td>\n",
       "      <td>132</td>\n",
       "      <td>1</td>\n",
       "      <td>1</td>\n",
       "      <td>8</td>\n",
       "      <td>1</td>\n",
       "    </tr>\n",
       "    <tr>\n",
       "      <th>6</th>\n",
       "      <td>75.0</td>\n",
       "      <td>1</td>\n",
       "      <td>246</td>\n",
       "      <td>0</td>\n",
       "      <td>15</td>\n",
       "      <td>0</td>\n",
       "      <td>127000.00</td>\n",
       "      <td>1.2</td>\n",
       "      <td>137</td>\n",
       "      <td>1</td>\n",
       "      <td>0</td>\n",
       "      <td>10</td>\n",
       "      <td>1</td>\n",
       "    </tr>\n",
       "    <tr>\n",
       "      <th>7</th>\n",
       "      <td>60.0</td>\n",
       "      <td>1</td>\n",
       "      <td>315</td>\n",
       "      <td>1</td>\n",
       "      <td>60</td>\n",
       "      <td>0</td>\n",
       "      <td>454000.00</td>\n",
       "      <td>1.1</td>\n",
       "      <td>131</td>\n",
       "      <td>1</td>\n",
       "      <td>1</td>\n",
       "      <td>10</td>\n",
       "      <td>1</td>\n",
       "    </tr>\n",
       "    <tr>\n",
       "      <th>8</th>\n",
       "      <td>65.0</td>\n",
       "      <td>0</td>\n",
       "      <td>157</td>\n",
       "      <td>0</td>\n",
       "      <td>65</td>\n",
       "      <td>0</td>\n",
       "      <td>263358.03</td>\n",
       "      <td>1.5</td>\n",
       "      <td>138</td>\n",
       "      <td>0</td>\n",
       "      <td>0</td>\n",
       "      <td>10</td>\n",
       "      <td>1</td>\n",
       "    </tr>\n",
       "    <tr>\n",
       "      <th>9</th>\n",
       "      <td>80.0</td>\n",
       "      <td>1</td>\n",
       "      <td>123</td>\n",
       "      <td>0</td>\n",
       "      <td>35</td>\n",
       "      <td>1</td>\n",
       "      <td>388000.00</td>\n",
       "      <td>9.4</td>\n",
       "      <td>133</td>\n",
       "      <td>1</td>\n",
       "      <td>1</td>\n",
       "      <td>10</td>\n",
       "      <td>1</td>\n",
       "    </tr>\n",
       "  </tbody>\n",
       "</table>\n",
       "</div>"
      ],
      "text/plain": [
       "    age  anaemia  creatinine_phosphokinase  diabetes  ejection_fraction  \\\n",
       "0  75.0        0                       582         0                 20   \n",
       "1  55.0        0                      7861         0                 38   \n",
       "2  65.0        0                       146         0                 20   \n",
       "3  50.0        1                       111         0                 20   \n",
       "4  65.0        1                       160         1                 20   \n",
       "5  90.0        1                        47         0                 40   \n",
       "6  75.0        1                       246         0                 15   \n",
       "7  60.0        1                       315         1                 60   \n",
       "8  65.0        0                       157         0                 65   \n",
       "9  80.0        1                       123         0                 35   \n",
       "\n",
       "   high_blood_pressure  platelets  serum_creatinine  serum_sodium  sex  \\\n",
       "0                    1  265000.00               1.9           130    1   \n",
       "1                    0  263358.03               1.1           136    1   \n",
       "2                    0  162000.00               1.3           129    1   \n",
       "3                    0  210000.00               1.9           137    1   \n",
       "4                    0  327000.00               2.7           116    0   \n",
       "5                    1  204000.00               2.1           132    1   \n",
       "6                    0  127000.00               1.2           137    1   \n",
       "7                    0  454000.00               1.1           131    1   \n",
       "8                    0  263358.03               1.5           138    0   \n",
       "9                    1  388000.00               9.4           133    1   \n",
       "\n",
       "   smoking  time  death_event  \n",
       "0        0     4            1  \n",
       "1        0     6            1  \n",
       "2        1     7            1  \n",
       "3        0     7            1  \n",
       "4        0     8            1  \n",
       "5        1     8            1  \n",
       "6        0    10            1  \n",
       "7        1    10            1  \n",
       "8        0    10            1  \n",
       "9        1    10            1  "
      ]
     },
     "execution_count": 4,
     "metadata": {},
     "output_type": "execute_result"
    }
   ],
   "source": [
    "# Concatena características y objetivo en un DataFrame\n",
    "new_df = pd.concat([X_features, y_targets], axis=1)\n",
    "new_df.head(10)"
   ]
  },
  {
   "cell_type": "code",
   "execution_count": 5,
   "metadata": {},
   "outputs": [
    {
     "name": "stdout",
     "output_type": "stream",
     "text": [
      "age                         0\n",
      "anaemia                     0\n",
      "creatinine_phosphokinase    0\n",
      "diabetes                    0\n",
      "ejection_fraction           0\n",
      "high_blood_pressure         0\n",
      "platelets                   0\n",
      "serum_creatinine            0\n",
      "serum_sodium                0\n",
      "sex                         0\n",
      "smoking                     0\n",
      "time                        0\n",
      "death_event                 0\n",
      "dtype: int64\n"
     ]
    }
   ],
   "source": [
    "print(new_df.isnull().sum())"
   ]
  },
  {
   "cell_type": "markdown",
   "metadata": {},
   "source": [
    "#### **Escalado y División de Datos**"
   ]
  },
  {
   "cell_type": "code",
   "execution_count": 6,
   "metadata": {},
   "outputs": [],
   "source": [
    "X = new_df.iloc[:, :-1].values\n",
    "y = new_df.iloc[:, -1].values\n",
    "\n",
    "scaler = StandardScaler()\n",
    "X_scaled = scaler.fit_transform(X)\n",
    "\n",
    "X_train, X_test, y_train, y_test = train_test_split(X_scaled, y, test_size=0.2, random_state=42)\n"
   ]
  },
  {
   "cell_type": "markdown",
   "metadata": {},
   "source": [
    "#### **Ajuste del desbalanceo** \n",
    "Se realiza un desbalanceo de los datos con la finalidad de mejorar la capacidad del modelo para generalizar y dar predicciones precisas.  \n",
    "- **Sobremuestreo de la clase minoritaria (Oversampling)**  \n",
    "consiste en incrementar el número de muestras en la clase minoritaria duplicando algunas de ellas. Se utiliza la técnica SMOTE\n"
   ]
  },
  {
   "cell_type": "code",
   "execution_count": 7,
   "metadata": {},
   "outputs": [],
   "source": [
    "from imblearn.over_sampling import SMOTE\n",
    "# Crear el objeto SMOTE \n",
    "smote = SMOTE(random_state=42)\n",
    "\n",
    "# Aplicar SMOTE a los conjuntos de entrenamiento \n",
    "X_train_res, y_train_res = smote.fit_resample(X_train, y_train)"
   ]
  },
  {
   "cell_type": "markdown",
   "metadata": {},
   "source": [
    "#### **Diseño de la Arquitectura de la RNA**"
   ]
  },
  {
   "cell_type": "markdown",
   "metadata": {},
   "source": [
    "Diseñaremos una red neuronal con una capa oculta que aprenderá características útiles de los datos, seguida de una capa de salida que realizará la clasificación. Utilizaremos técnicas avanzadas como la regularización y el ajuste de hiperparámetros para mejorar el rendimiento del modelo."
   ]
  },
  {
   "cell_type": "markdown",
   "metadata": {},
   "source": [
    "#### **Construcción del Modelo**"
   ]
  },
  {
   "cell_type": "markdown",
   "metadata": {},
   "source": [
    "Parámetros de entrenamiento del modelo de aprendizaje. \n",
    "- `hidden_units:` Cantidad de neuronas en la capa oculta.\n",
    "- `activation:` Función de activación **relu**, , dicha función se utiliza porque introduce no linelidad y es computacionalmente eficiente. \n",
    "- `l2:` Regularización L2, también conocida como decaimiento de pesos, penaliza grandes valores en los parámetros del modelo. \n",
    "- `learning_rate:` Tasa de apredizaje, define cuan grande son los pasos que da el algoritmo de optimización.\n",
    "- `epochs:` Iteración completa sobre todo el conjunto de datos de entrenamiento.\n",
    "- `batch_size:` Tamaño del lote, se define cuántas muestras se utilizan para actualizar los parámetros del modelo en cada paso de optimización. "
   ]
  },
  {
   "cell_type": "code",
   "execution_count": 41,
   "metadata": {},
   "outputs": [],
   "source": [
    "hidden_units = 15     \n",
    "activation = 'relu'   \n",
    "l2 = 0.01                              \n",
    "learning_rate = 0.01  \n",
    "epochs = 7            \n",
    "batch_size = 16    "
   ]
  },
  {
   "cell_type": "markdown",
   "metadata": {},
   "source": [
    "Creación del modelo, añadir las capas ocultas y la capa de salida."
   ]
  },
  {
   "cell_type": "code",
   "execution_count": 42,
   "metadata": {},
   "outputs": [
    {
     "name": "stdout",
     "output_type": "stream",
     "text": [
      "Model: \"sequential_8\"\n",
      "_________________________________________________________________\n",
      " Layer (type)                Output Shape              Param #   \n",
      "=================================================================\n",
      " dense_32 (Dense)            (None, 15)                195       \n",
      "                                                                 \n",
      " dense_33 (Dense)            (None, 15)                240       \n",
      "                                                                 \n",
      " dense_34 (Dense)            (None, 15)                240       \n",
      "                                                                 \n",
      " dense_35 (Dense)            (None, 1)                 16        \n",
      "                                                                 \n",
      "=================================================================\n",
      "Total params: 691\n",
      "Trainable params: 691\n",
      "Non-trainable params: 0\n",
      "_________________________________________________________________\n"
     ]
    }
   ],
   "source": [
    "# Creación del modelo\n",
    "model = models.Sequential()\n",
    "\n",
    "#Extrayendo el número de las columnas\n",
    "features = X_train_res.shape[1]\n",
    "\n",
    "# Primera capa oculta de 10 nodos\n",
    "model.add(layers.Dense(input_dim=features, #Espicifica la dimensión de entrada, \"Número de características\"\n",
    "                       units=hidden_units, # Número de neuronas\n",
    "                       activation=activation)) # Función de activación\n",
    "\n",
    "# segunda capa oculta de 10 nodos\n",
    "model.add(layers.Dense(input_dim=hidden_units,\n",
    "                       units=hidden_units, \n",
    "                       activation=activation))\n",
    "\n",
    "# tercera capa oculta\n",
    "model.add(layers.Dense(input_dim=hidden_units,\n",
    "                       units=hidden_units,\n",
    "                       activation=activation))\n",
    "\n",
    "# final de la red, outputs\n",
    "model.add(layers.Dense(input_dim=hidden_units,\n",
    "                       units=1,\n",
    "                       activation='sigmoid'))# Común en problema de clasificación binaria\n",
    "\n",
    "\n",
    "# Definción de la función de pérdida y el optimizador\n",
    "model.compile(loss='binary_crossentropy', # ideal para problemas de clasificación binaria\n",
    "              # Adam es un método de descenso de gradiente adaptativo\n",
    "              optimizer=optimizers.Adam(learning_rate=learning_rate),\n",
    "              metrics=['accuracy']) # Para medir la precisión del modelo\n",
    "\n",
    "\n",
    "# Resumen del modelo\n",
    "model.summary()"
   ]
  },
  {
   "cell_type": "markdown",
   "metadata": {},
   "source": [
    "**Justificación:** \n",
    "\n",
    "La elección de tres capas ocultas para el análisis a trabajar, con la finalidad de capturar más características sin incurrir en un sobreajuste severo. \n",
    "\n",
    "Para la función de activación para la capa de salida, se utiliza `sigmoid`, debido a que es útil para problemas de clasificación, convierte la salida a un valor entre 0 y 1, lo cual es ideal para problema donde se necesita predecir una probabilidad o una clase binaria.    \n",
    "\n",
    "No se utilizó **relu** porque típicamente no es útil en la capa de salida. Es una función lineal a trozos que introduce no linealidad en las capas ocultas, pero no limita la salida entre 0 y 1, lo cual es necesario para tareas de clasificación. \n",
    "\n",
    "- `units: 1`, si el paciente fallece en el periodo de seguimiento. "
   ]
  },
  {
   "cell_type": "markdown",
   "metadata": {},
   "source": [
    "### **Evalución del modelo**\n",
    "\n",
    "- `epochs:` Número de épocas, cuantas veces el modelo verá el conjunto completo de datos de entrenamiento.\n",
    "- `Evalución de la precisión:`  \n",
    "La evaluación del modelo, se evalúa tanto en los datos de entrenamiento como en los de prueba.  "
   ]
  },
  {
   "cell_type": "code",
   "execution_count": 43,
   "metadata": {},
   "outputs": [
    {
     "name": "stdout",
     "output_type": "stream",
     "text": [
      "Epoch 1/10\n",
      "17/17 [==============================] - 1s 16ms/step - loss: 0.6212 - accuracy: 0.6679 - val_loss: 0.9335 - val_accuracy: 0.2941\n",
      "Epoch 2/10\n",
      "17/17 [==============================] - 0s 3ms/step - loss: 0.4476 - accuracy: 0.7985 - val_loss: 0.5021 - val_accuracy: 0.7647\n",
      "Epoch 3/10\n",
      "17/17 [==============================] - 0s 4ms/step - loss: 0.3383 - accuracy: 0.8657 - val_loss: 0.5444 - val_accuracy: 0.7353\n",
      "Epoch 4/10\n",
      "17/17 [==============================] - 0s 4ms/step - loss: 0.2741 - accuracy: 0.8657 - val_loss: 0.2391 - val_accuracy: 0.9559\n",
      "Epoch 5/10\n",
      "17/17 [==============================] - 0s 3ms/step - loss: 0.2530 - accuracy: 0.8955 - val_loss: 0.2970 - val_accuracy: 0.8971\n",
      "Epoch 6/10\n",
      "17/17 [==============================] - 0s 3ms/step - loss: 0.2277 - accuracy: 0.9030 - val_loss: 0.2089 - val_accuracy: 0.9559\n",
      "Epoch 7/10\n",
      "17/17 [==============================] - 0s 4ms/step - loss: 0.1875 - accuracy: 0.9291 - val_loss: 0.1676 - val_accuracy: 0.9559\n",
      "Epoch 8/10\n",
      "17/17 [==============================] - 0s 3ms/step - loss: 0.1687 - accuracy: 0.9328 - val_loss: 0.3107 - val_accuracy: 0.8529\n",
      "Epoch 9/10\n",
      "17/17 [==============================] - 0s 4ms/step - loss: 0.1310 - accuracy: 0.9478 - val_loss: 0.2016 - val_accuracy: 0.9265\n",
      "Epoch 10/10\n",
      "17/17 [==============================] - 0s 4ms/step - loss: 0.1085 - accuracy: 0.9664 - val_loss: 0.1149 - val_accuracy: 0.9706\n",
      "21/21 [==============================] - 0s 1ms/step - loss: 0.0905 - accuracy: 0.9762\n",
      "4/4 [==============================] - 0s 6ms/step - loss: 1.1000 - accuracy: 0.7667\n",
      "Training accuracy: 0.9762\n",
      "Testing accuracy: 0.7667\n"
     ]
    }
   ],
   "source": [
    "# Entrenamiento del modelo\n",
    "history = model.fit(X_train_res, y_train_res, epochs=10, batch_size=batch_size, validation_split=0.2, \n",
    "                    verbose=1)\n",
    "\n",
    "# Evalución de la precisión\n",
    "train_acc = model.evaluate(X_train_res, y_train_res, batch_size=batch_size)[1]\n",
    "test_acc = model.evaluate(X_test, y_test, batch_size=batch_size)[1]\n",
    "print('Training accuracy: %.4f' % train_acc)\n",
    "print('Testing accuracy: %.4f' % test_acc)"
   ]
  },
  {
   "cell_type": "markdown",
   "metadata": {},
   "source": [
    "### **Detener el modelo**\n",
    "- `Early Stopping:` Para detener el entrenamiento cuando el modelo deje de mejorar en el conjunto de validación."
   ]
  },
  {
   "cell_type": "code",
   "execution_count": 34,
   "metadata": {},
   "outputs": [
    {
     "name": "stdout",
     "output_type": "stream",
     "text": [
      "Epoch 1/10\n",
      "17/17 [==============================] - 0s 6ms/step - loss: 0.1630 - accuracy: 0.9254 - val_loss: 0.1670 - val_accuracy: 0.9559\n",
      "Epoch 2/10\n",
      "17/17 [==============================] - 0s 4ms/step - loss: 0.1597 - accuracy: 0.9366 - val_loss: 0.1913 - val_accuracy: 0.9706\n",
      "Epoch 3/10\n",
      "17/17 [==============================] - 0s 3ms/step - loss: 0.1268 - accuracy: 0.9440 - val_loss: 0.1578 - val_accuracy: 0.9706\n",
      "Epoch 4/10\n",
      "17/17 [==============================] - 0s 3ms/step - loss: 0.0962 - accuracy: 0.9590 - val_loss: 0.1181 - val_accuracy: 0.9706\n",
      "Epoch 5/10\n",
      "17/17 [==============================] - 0s 3ms/step - loss: 0.0845 - accuracy: 0.9701 - val_loss: 0.1008 - val_accuracy: 0.9706\n",
      "Epoch 6/10\n",
      "17/17 [==============================] - 0s 3ms/step - loss: 0.0728 - accuracy: 0.9739 - val_loss: 0.0967 - val_accuracy: 0.9559\n",
      "Epoch 7/10\n",
      "17/17 [==============================] - 0s 4ms/step - loss: 0.0756 - accuracy: 0.9664 - val_loss: 0.0937 - val_accuracy: 1.0000\n",
      "Epoch 8/10\n",
      "17/17 [==============================] - 0s 3ms/step - loss: 0.0633 - accuracy: 0.9664 - val_loss: 0.0678 - val_accuracy: 1.0000\n",
      "Epoch 9/10\n",
      "17/17 [==============================] - 0s 4ms/step - loss: 0.0574 - accuracy: 0.9776 - val_loss: 0.0509 - val_accuracy: 1.0000\n",
      "Epoch 10/10\n",
      "17/17 [==============================] - 0s 4ms/step - loss: 0.0546 - accuracy: 0.9813 - val_loss: 0.0718 - val_accuracy: 1.0000\n"
     ]
    }
   ],
   "source": [
    "from keras.callbacks import EarlyStopping\n",
    "\n",
    "early_stopping = EarlyStopping(monitor='val_loss', patience=3)\n",
    "\n",
    "history = model.fit(X_train_res, y_train_res, \n",
    "                    epochs=10, \n",
    "                    batch_size=batch_size, \n",
    "                    validation_split=0.2,\n",
    "                    callbacks=[early_stopping])"
   ]
  },
  {
   "cell_type": "markdown",
   "metadata": {},
   "source": [
    "### **Visualización del Rendimiento**"
   ]
  },
  {
   "cell_type": "code",
   "execution_count": 44,
   "metadata": {},
   "outputs": [
    {
     "data": {
      "image/png": "[encoded data removed]",
      "text/plain": [
       "<Figure size 640x480 with 1 Axes>"
      ]
     },
     "metadata": {},
     "output_type": "display_data"
    }
   ],
   "source": [
    "losses = history.history['loss']\n",
    "accuracy = history.history['accuracy']\n",
    "plt.figure()\n",
    "\n",
    "plt.plot(range(len(losses)), losses, 'r', label='Loss')\n",
    "plt.plot(range(len(accuracy)), accuracy, 'b', label='Accuracy')\n",
    "plt.xlabel('Número de épocas durante el proceso de entrenamiento')\n",
    "plt.ylabel('Pérdida y Precisión del modelo')\n",
    "plt.title('Evolución de métricas, Pérdida (Loss) y Precisión (Accuracy)')\n",
    "plt.legend(loc=\"center right\")\n",
    "plt.show()"
   ]
  },
  {
   "cell_type": "markdown",
   "metadata": {},
   "source": [
    "### **Evaluación del Modelo con Matriz de Confusión**"
   ]
  },
  {
   "cell_type": "code",
   "execution_count": 45,
   "metadata": {},
   "outputs": [
    {
     "name": "stdout",
     "output_type": "stream",
     "text": [
      "2/2 [==============================] - 0s 8ms/step\n"
     ]
    },
    {
     "data": {
      "image/png": "[encoded data removed]",
      "text/plain": [
       "<Figure size 800x600 with 2 Axes>"
      ]
     },
     "metadata": {},
     "output_type": "display_data"
    },
    {
     "name": "stdout",
     "output_type": "stream",
     "text": [
      "\n",
      "Informe de Clasificación:\n",
      "              precision    recall  f1-score   support\n",
      "\n",
      "           0       0.76      0.89      0.82        35\n",
      "           1       0.79      0.60      0.68        25\n",
      "\n",
      "    accuracy                           0.77        60\n",
      "   macro avg       0.77      0.74      0.75        60\n",
      "weighted avg       0.77      0.77      0.76        60\n",
      "\n"
     ]
    }
   ],
   "source": [
    "# Predicción\n",
    "y_pred = (model.predict(X_test) > 0.5).astype(\"int32\")\n",
    "\n",
    "cm = confusion_matrix(y_test, y_pred)\n",
    "plt.figure(figsize=(8, 6))\n",
    "sns.heatmap(cm, annot=True, fmt='d', cmap='Blues', xticklabels=['No Evento', 'Evento'], yticklabels=['No Evento', 'Evento'])\n",
    "plt.title('Matriz de Confusión')\n",
    "plt.ylabel('Verdad')\n",
    "plt.xlabel('Predicción')\n",
    "plt.show()\n",
    "\n",
    "# Informe de clasificación\n",
    "print(\"\\nInforme de Clasificación:\")\n",
    "print(classification_report(y_test, y_pred))\n"
   ]
  }
 ],
 "metadata": {
  "kernelspec": {
   "display_name": "ML-Avanzado",
   "language": "python",
   "name": "python3"
  },
  "language_info": {
   "codemirror_mode": {
    "name": "ipython",
    "version": 3
   },
   "file_extension": ".py",
   "mimetype": "text/x-python",
   "name": "python",
   "nbconvert_exporter": "python",
   "pygments_lexer": "ipython3",
   "version": "3.10.8"
  }
 },
 "nbformat": 4,
 "nbformat_minor": 2
}
